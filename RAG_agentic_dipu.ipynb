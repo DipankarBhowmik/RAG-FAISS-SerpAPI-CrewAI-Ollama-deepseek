{
 "cells": [
  {
   "cell_type": "code",
   "execution_count": null,
   "id": "b669c910-061c-4e3e-8c0d-671615f37af9",
   "metadata": {
    "id": "b669c910-061c-4e3e-8c0d-671615f37af9"
   },
   "outputs": [],
   "source": [
    "import os\n",
    "from crewai import Agent, Task, Crew, LLM\n",
    "from langchain.vectorstores import FAISS\n",
    "from langchain.text_splitter import CharacterTextSplitter\n",
    "from langchain.docstore.document import Document\n",
    "from langchain_huggingface import HuggingFaceEmbeddings\n",
    "import requests"
   ]
  },
  {
   "cell_type": "code",
   "execution_count": null,
   "id": "86af647d-ac56-4296-ae98-cdb2df655efc",
   "metadata": {
    "id": "86af647d-ac56-4296-ae98-cdb2df655efc",
    "outputId": "425bab8c-48d6-484f-ddf7-a85b94e17781",
    "scrolled": true
   },
   "outputs": [
    {
     "name": "stdout",
     "output_type": "stream",
     "text": [
      "Collecting langchain-huggingface\n",
      "  Downloading langchain_huggingface-0.2.0-py3-none-any.whl.metadata (941 bytes)\n",
      "Collecting langchain-core<1.0.0,>=0.3.59 (from langchain-huggingface)\n",
      "  Downloading langchain_core-0.3.59-py3-none-any.whl.metadata (5.9 kB)\n",
      "Requirement already satisfied: tokenizers>=0.19.1 in c:\\users\\bhowm\\anaconda3\\lib\\site-packages (from langchain-huggingface) (0.21.1)\n",
      "Requirement already satisfied: transformers>=4.39.0 in c:\\users\\bhowm\\anaconda3\\lib\\site-packages (from langchain-huggingface) (4.51.3)\n",
      "Requirement already satisfied: sentence-transformers>=2.6.0 in c:\\users\\bhowm\\anaconda3\\lib\\site-packages (from langchain-huggingface) (4.1.0)\n",
      "Requirement already satisfied: huggingface-hub>=0.30.2 in c:\\users\\bhowm\\anaconda3\\lib\\site-packages (from langchain-huggingface) (0.30.2)\n",
      "Requirement already satisfied: filelock in c:\\users\\bhowm\\anaconda3\\lib\\site-packages (from huggingface-hub>=0.30.2->langchain-huggingface) (3.13.1)\n",
      "Requirement already satisfied: fsspec>=2023.5.0 in c:\\users\\bhowm\\anaconda3\\lib\\site-packages (from huggingface-hub>=0.30.2->langchain-huggingface) (2024.6.1)\n",
      "Requirement already satisfied: packaging>=20.9 in c:\\users\\bhowm\\anaconda3\\lib\\site-packages (from huggingface-hub>=0.30.2->langchain-huggingface) (24.1)\n",
      "Requirement already satisfied: pyyaml>=5.1 in c:\\users\\bhowm\\anaconda3\\lib\\site-packages (from huggingface-hub>=0.30.2->langchain-huggingface) (6.0.1)\n",
      "Requirement already satisfied: requests in c:\\users\\bhowm\\anaconda3\\lib\\site-packages (from huggingface-hub>=0.30.2->langchain-huggingface) (2.32.3)\n",
      "Requirement already satisfied: tqdm>=4.42.1 in c:\\users\\bhowm\\anaconda3\\lib\\site-packages (from huggingface-hub>=0.30.2->langchain-huggingface) (4.66.5)\n",
      "Requirement already satisfied: typing-extensions>=3.7.4.3 in c:\\users\\bhowm\\anaconda3\\lib\\site-packages (from huggingface-hub>=0.30.2->langchain-huggingface) (4.13.2)\n",
      "Requirement already satisfied: langsmith<0.4,>=0.1.125 in c:\\users\\bhowm\\anaconda3\\lib\\site-packages (from langchain-core<1.0.0,>=0.3.59->langchain-huggingface) (0.1.147)\n",
      "Requirement already satisfied: tenacity!=8.4.0,<10.0.0,>=8.1.0 in c:\\users\\bhowm\\anaconda3\\lib\\site-packages (from langchain-core<1.0.0,>=0.3.59->langchain-huggingface) (9.1.2)\n",
      "Requirement already satisfied: jsonpatch<2.0,>=1.33 in c:\\users\\bhowm\\anaconda3\\lib\\site-packages (from langchain-core<1.0.0,>=0.3.59->langchain-huggingface) (1.33)\n",
      "Requirement already satisfied: pydantic<3.0.0,>=2.7.4 in c:\\users\\bhowm\\anaconda3\\lib\\site-packages (from langchain-core<1.0.0,>=0.3.59->langchain-huggingface) (2.11.3)\n",
      "Requirement already satisfied: torch>=1.11.0 in c:\\users\\bhowm\\anaconda3\\lib\\site-packages (from sentence-transformers>=2.6.0->langchain-huggingface) (2.7.0)\n",
      "Requirement already satisfied: scikit-learn in c:\\users\\bhowm\\anaconda3\\lib\\site-packages (from sentence-transformers>=2.6.0->langchain-huggingface) (1.5.1)\n",
      "Requirement already satisfied: scipy in c:\\users\\bhowm\\anaconda3\\lib\\site-packages (from sentence-transformers>=2.6.0->langchain-huggingface) (1.13.1)\n",
      "Requirement already satisfied: Pillow in c:\\users\\bhowm\\anaconda3\\lib\\site-packages (from sentence-transformers>=2.6.0->langchain-huggingface) (10.4.0)\n",
      "Requirement already satisfied: numpy>=1.17 in c:\\users\\bhowm\\anaconda3\\lib\\site-packages (from transformers>=4.39.0->langchain-huggingface) (1.26.4)\n",
      "Requirement already satisfied: regex!=2019.12.17 in c:\\users\\bhowm\\anaconda3\\lib\\site-packages (from transformers>=4.39.0->langchain-huggingface) (2024.9.11)\n",
      "Requirement already satisfied: safetensors>=0.4.3 in c:\\users\\bhowm\\anaconda3\\lib\\site-packages (from transformers>=4.39.0->langchain-huggingface) (0.5.3)\n",
      "Requirement already satisfied: jsonpointer>=1.9 in c:\\users\\bhowm\\anaconda3\\lib\\site-packages (from jsonpatch<2.0,>=1.33->langchain-core<1.0.0,>=0.3.59->langchain-huggingface) (2.1)\n",
      "Requirement already satisfied: httpx<1,>=0.23.0 in c:\\users\\bhowm\\anaconda3\\lib\\site-packages (from langsmith<0.4,>=0.1.125->langchain-core<1.0.0,>=0.3.59->langchain-huggingface) (0.27.0)\n",
      "Requirement already satisfied: orjson<4.0.0,>=3.9.14 in c:\\users\\bhowm\\anaconda3\\lib\\site-packages (from langsmith<0.4,>=0.1.125->langchain-core<1.0.0,>=0.3.59->langchain-huggingface) (3.10.16)\n",
      "Requirement already satisfied: requests-toolbelt<2.0.0,>=1.0.0 in c:\\users\\bhowm\\anaconda3\\lib\\site-packages (from langsmith<0.4,>=0.1.125->langchain-core<1.0.0,>=0.3.59->langchain-huggingface) (1.0.0)\n",
      "Requirement already satisfied: annotated-types>=0.6.0 in c:\\users\\bhowm\\anaconda3\\lib\\site-packages (from pydantic<3.0.0,>=2.7.4->langchain-core<1.0.0,>=0.3.59->langchain-huggingface) (0.6.0)\n",
      "Requirement already satisfied: pydantic-core==2.33.1 in c:\\users\\bhowm\\anaconda3\\lib\\site-packages (from pydantic<3.0.0,>=2.7.4->langchain-core<1.0.0,>=0.3.59->langchain-huggingface) (2.33.1)\n",
      "Requirement already satisfied: typing-inspection>=0.4.0 in c:\\users\\bhowm\\anaconda3\\lib\\site-packages (from pydantic<3.0.0,>=2.7.4->langchain-core<1.0.0,>=0.3.59->langchain-huggingface) (0.4.0)\n",
      "Requirement already satisfied: charset-normalizer<4,>=2 in c:\\users\\bhowm\\anaconda3\\lib\\site-packages (from requests->huggingface-hub>=0.30.2->langchain-huggingface) (3.3.2)\n",
      "Requirement already satisfied: idna<4,>=2.5 in c:\\users\\bhowm\\anaconda3\\lib\\site-packages (from requests->huggingface-hub>=0.30.2->langchain-huggingface) (3.7)\n",
      "Requirement already satisfied: urllib3<3,>=1.21.1 in c:\\users\\bhowm\\anaconda3\\lib\\site-packages (from requests->huggingface-hub>=0.30.2->langchain-huggingface) (2.2.3)\n",
      "Requirement already satisfied: certifi>=2017.4.17 in c:\\users\\bhowm\\anaconda3\\lib\\site-packages (from requests->huggingface-hub>=0.30.2->langchain-huggingface) (2024.8.30)\n",
      "Requirement already satisfied: sympy>=1.13.3 in c:\\users\\bhowm\\anaconda3\\lib\\site-packages (from torch>=1.11.0->sentence-transformers>=2.6.0->langchain-huggingface) (1.13.3)\n",
      "Requirement already satisfied: networkx in c:\\users\\bhowm\\anaconda3\\lib\\site-packages (from torch>=1.11.0->sentence-transformers>=2.6.0->langchain-huggingface) (3.3)\n",
      "Requirement already satisfied: jinja2 in c:\\users\\bhowm\\anaconda3\\lib\\site-packages (from torch>=1.11.0->sentence-transformers>=2.6.0->langchain-huggingface) (3.1.4)\n",
      "Requirement already satisfied: setuptools in c:\\users\\bhowm\\anaconda3\\lib\\site-packages (from torch>=1.11.0->sentence-transformers>=2.6.0->langchain-huggingface) (75.1.0)\n",
      "Requirement already satisfied: colorama in c:\\users\\bhowm\\anaconda3\\lib\\site-packages (from tqdm>=4.42.1->huggingface-hub>=0.30.2->langchain-huggingface) (0.4.6)\n",
      "Requirement already satisfied: joblib>=1.2.0 in c:\\users\\bhowm\\anaconda3\\lib\\site-packages (from scikit-learn->sentence-transformers>=2.6.0->langchain-huggingface) (1.4.2)\n",
      "Requirement already satisfied: threadpoolctl>=3.1.0 in c:\\users\\bhowm\\anaconda3\\lib\\site-packages (from scikit-learn->sentence-transformers>=2.6.0->langchain-huggingface) (3.5.0)\n",
      "Requirement already satisfied: anyio in c:\\users\\bhowm\\anaconda3\\lib\\site-packages (from httpx<1,>=0.23.0->langsmith<0.4,>=0.1.125->langchain-core<1.0.0,>=0.3.59->langchain-huggingface) (4.2.0)\n",
      "Requirement already satisfied: httpcore==1.* in c:\\users\\bhowm\\anaconda3\\lib\\site-packages (from httpx<1,>=0.23.0->langsmith<0.4,>=0.1.125->langchain-core<1.0.0,>=0.3.59->langchain-huggingface) (1.0.2)\n",
      "Requirement already satisfied: sniffio in c:\\users\\bhowm\\anaconda3\\lib\\site-packages (from httpx<1,>=0.23.0->langsmith<0.4,>=0.1.125->langchain-core<1.0.0,>=0.3.59->langchain-huggingface) (1.3.0)\n",
      "Requirement already satisfied: h11<0.15,>=0.13 in c:\\users\\bhowm\\anaconda3\\lib\\site-packages (from httpcore==1.*->httpx<1,>=0.23.0->langsmith<0.4,>=0.1.125->langchain-core<1.0.0,>=0.3.59->langchain-huggingface) (0.14.0)\n",
      "Requirement already satisfied: mpmath<1.4,>=1.1.0 in c:\\users\\bhowm\\anaconda3\\lib\\site-packages (from sympy>=1.13.3->torch>=1.11.0->sentence-transformers>=2.6.0->langchain-huggingface) (1.3.0)\n",
      "Requirement already satisfied: MarkupSafe>=2.0 in c:\\users\\bhowm\\anaconda3\\lib\\site-packages (from jinja2->torch>=1.11.0->sentence-transformers>=2.6.0->langchain-huggingface) (2.1.3)\n",
      "Downloading langchain_huggingface-0.2.0-py3-none-any.whl (27 kB)\n",
      "Downloading langchain_core-0.3.59-py3-none-any.whl (437 kB)\n",
      "Installing collected packages: langchain-core, langchain-huggingface\n",
      "  Attempting uninstall: langchain-core\n",
      "    Found existing installation: langchain-core 0.3.56\n",
      "    Uninstalling langchain-core-0.3.56:\n",
      "      Successfully uninstalled langchain-core-0.3.56\n",
      "Successfully installed langchain-core-0.3.59 langchain-huggingface-0.2.0\n",
      "Note: you may need to restart the kernel to use updated packages.\n"
     ]
    }
   ],
   "source": [
    "#pip install -U langchain-huggingface"
   ]
  },
  {
   "cell_type": "code",
   "execution_count": null,
   "id": "0c002afa-a4ce-471e-97a5-1fef7f8dd73e",
   "metadata": {
    "id": "0c002afa-a4ce-471e-97a5-1fef7f8dd73e",
    "outputId": "0b8ce573-5434-4f1d-ab2f-c41cd8900de5",
    "scrolled": true
   },
   "outputs": [
    {
     "name": "stdout",
     "output_type": "stream",
     "text": [
      "Collecting faiss-cpu\n",
      "  Downloading faiss_cpu-1.11.0-cp312-cp312-win_amd64.whl.metadata (5.0 kB)\n",
      "Requirement already satisfied: numpy<3.0,>=1.25.0 in c:\\users\\bhowm\\anaconda3\\lib\\site-packages (from faiss-cpu) (1.26.4)\n",
      "Requirement already satisfied: packaging in c:\\users\\bhowm\\anaconda3\\lib\\site-packages (from faiss-cpu) (24.1)\n",
      "Downloading faiss_cpu-1.11.0-cp312-cp312-win_amd64.whl (15.0 MB)\n",
      "   ---------------------------------------- 0.0/15.0 MB ? eta -:--:--\n",
      "   ------- -------------------------------- 2.9/15.0 MB 15.2 MB/s eta 0:00:01\n",
      "   ---------- ----------------------------- 3.9/15.0 MB 14.7 MB/s eta 0:00:01\n",
      "   ------------- -------------------------- 5.2/15.0 MB 8.6 MB/s eta 0:00:02\n",
      "   ----------------- ---------------------- 6.6/15.0 MB 8.1 MB/s eta 0:00:02\n",
      "   -------------------- ------------------- 7.6/15.0 MB 7.5 MB/s eta 0:00:01\n",
      "   -------------------- ------------------- 7.9/15.0 MB 7.3 MB/s eta 0:00:01\n",
      "   ----------------------- ---------------- 8.7/15.0 MB 6.0 MB/s eta 0:00:02\n",
      "   --------------------------- ------------ 10.2/15.0 MB 6.3 MB/s eta 0:00:01\n",
      "   ------------------------------ --------- 11.3/15.0 MB 6.1 MB/s eta 0:00:01\n",
      "   -------------------------------- ------- 12.3/15.0 MB 5.9 MB/s eta 0:00:01\n",
      "   ---------------------------------- ----- 13.1/15.0 MB 5.7 MB/s eta 0:00:01\n",
      "   ------------------------------------- -- 14.2/15.0 MB 5.8 MB/s eta 0:00:01\n",
      "   ---------------------------------------  14.9/15.0 MB 5.7 MB/s eta 0:00:01\n",
      "   ---------------------------------------  14.9/15.0 MB 5.7 MB/s eta 0:00:01\n",
      "   ---------------------------------------- 15.0/15.0 MB 5.1 MB/s eta 0:00:00\n",
      "Installing collected packages: faiss-cpu\n",
      "Successfully installed faiss-cpu-1.11.0\n",
      "Note: you may need to restart the kernel to use updated packages.\n"
     ]
    }
   ],
   "source": [
    "#pip install faiss-cpu"
   ]
  },
  {
   "cell_type": "code",
   "execution_count": null,
   "id": "ee553ba1-a482-45f0-b8f8-6590e064ead5",
   "metadata": {
    "id": "ee553ba1-a482-45f0-b8f8-6590e064ead5"
   },
   "outputs": [],
   "source": [
    "import os\n",
    "\n",
    "os.environ[\"SERPAPI_API_KEY\"] = '***************************'"
   ]
  },
  {
   "cell_type": "code",
   "execution_count": null,
   "id": "6c16a972-cf21-4e78-8751-cd52848e92da",
   "metadata": {
    "id": "6c16a972-cf21-4e78-8751-cd52848e92da"
   },
   "outputs": [],
   "source": [
    "import requests\n",
    "from PyPDF2 import PdfReader\n",
    "from io import BytesIO\n",
    "\n",
    "def pdf_url_to_text(pdf_url):\n",
    "    response = requests.get(pdf_url)\n",
    "    if response.status_code != 200:\n",
    "        raise Exception(\"Failed to download PDF\")\n",
    "\n",
    "    pdf_file = BytesIO(response.content)\n",
    "    reader = PdfReader(pdf_file)\n",
    "\n",
    "    full_text = \"\"\n",
    "    for page in reader.pages:\n",
    "        full_text += page.extract_text() or \"\"\n",
    "\n",
    "    return full_text.strip()"
   ]
  },
  {
   "cell_type": "code",
   "execution_count": null,
   "id": "9ef33f03-6fc1-4933-a84c-72dd3635e35c",
   "metadata": {
    "id": "9ef33f03-6fc1-4933-a84c-72dd3635e35c",
    "outputId": "103b8557-69ce-447e-816c-193db8465664"
   },
   "outputs": [
    {
     "name": "stdout",
     "output_type": "stream",
     "text": [
      "Chapter 10\n",
      "Introduction to quantum\n",
      "mechanics\n",
      "David Morin, morin@physics.harvard.edu\n",
      "This chapter gives a brief introduction to quantum mechanics. Quantum mechanics can be\n",
      "thought of roughly as the study of physics on very small length scales, although there are\n",
      "also certain macroscopic systems it directly applies to. The descriptor \\quantum\" arises\n",
      "because in contrast with classical mechanics, certain quantities take on only discrete values.\n",
      "However, some quantities still take on continuous values, as we'll see.\n",
      "In quantum mechanics, particles have wavelike properties, and a particular wave equa-\n",
      "tion, the Schrodinger equation , governs how these waves behave. The Schrodinger equation\n",
      "is di®erent in a few ways from the other wave equations we've seen in this book. But these\n",
      "di®erences won't keep us from applying all of our usual strategies for solving a wave equation\n",
      "and dealing with the resulting solutions.\n",
      "In some respect, quantum mechanics is just another example of a system governed by a\n",
      "wave equation. In fact, we will ¯nd below that some quantum mechanical systems have exact\n",
      "analogies to systems we've already studied in this book. So the results can be carried over,\n",
      "with no modi¯cations whatsoever needed. However, although it is fairly straightforward\n",
      "to deal with the actual waves, there are many things about quantum mechanics that are a\n",
      "combination of subtle, perplexing, and bizarre. To name a few: the measurement problem,\n",
      "hidden variables along with Bell's theorem, and wave-particle duality. You'll learn all about\n",
      "these in an actual course on quantum mechanics.\n",
      "Even though there are many things that are highly confusing about quantum mechanics,\n",
      "the nice thing is that it's relatively easy to apply quantum mechanics to a physical system\n",
      "to ¯gure out how it behaves. There is fortunately no need to understand all of the subtleties\n",
      "about quantum mechanics in order to use it. Of course, in most cases this isn't the best\n",
      "strategy to take; it's usually not a good idea to blindly forge ahead with something if you\n",
      "don't understand what you're actually working with. But this lack of understanding can\n",
      "be forgiven in the case of quantum mechanics, because no one really understands it. (Well,\n",
      "maybe a couple people do, but they're few and far between.) If the world waited to use\n",
      "quantum mechanics until it understood it, then we'd be stuck back in the 1920's. The\n",
      "bottom line is that quantum mechanics can be used to make predictions that are consistent\n",
      "with experiment. It hasn't failed us yet. So it would be foolish not to use it.\n",
      "The main purpose of this chapter is to demonstrate how similar certain results in quan-\n",
      "tum mechanics are to earlier results we've derived in the book. You actually know a good\n",
      "12 CHAPTER 10. INTRODUCTION TO QUANTUM MECHANICS\n",
      "deal of quantum mechanics already, whether you realize it or not.\n",
      "The outline of this chapter is as follows. In Section 10.1 we give a brief history of the\n",
      "development of quantum mechanics. In Section 10.2 we write down, after some motivation,\n",
      "theSchrodinger wave equation , both the time-dependent and time-independent forms. In\n",
      "Section 10.3 we discuss a number of examples. The most important thing to take away from\n",
      "this section is that all of the examples we discuss have exact analogies in the string/spring\n",
      "systems earlier in the book. So we technically won't have to solve anything new here. All\n",
      "the work has been done before. The only thing new that we'll have to do is interpret the old\n",
      "results. In Section 10.4 we discuss the uncertainty principle . As in Section 10.3, we'll ¯nd\n",
      "that we already did the necessary work earlier in the book. The uncertainty principle turns\n",
      "out to be a direct consequence of a result from Fourier analysis. But the interpretation of\n",
      "this result as an uncertainty principle has profound implications in quantum mechanics.\n",
      "10.1 A brief history\n",
      "Before discussing the Schrodinger wave equation, let's take a brief (and by no means com-\n",
      "prehensive) look at the historical timeline of how quantum mechanics came about. The\n",
      "actual history is of course never as clean as an outline like this suggests, but we can at least\n",
      "get a general idea of how things proceeded.\n",
      "1900 (Planck): Max Planck proposed that light with frequency ºis emitted in quantized\n",
      "lumps of energy that come in integral multiples of the quantity,\n",
      "E=hº= ¹h! (1)\n",
      "where h¼6:63¢10¡34J¢s isPlanck's constant , and ¹ h´h=2¼= 1:06¢10¡34J¢s.\n",
      "The frequency ºof light is generally very large (on the order of 1015s¡1for the visible\n",
      "spectrum), but the smallness of hwins out, so the hºunit of energy is very small (at least on\n",
      "an everyday energy scale). The energy is therefore essentially continuous for most purposes.\n",
      "However, a puzzle in late 19th-century physics was the blackbody radiation problem. In a\n",
      "nutshell, the issue was that the classical (continuous) theory of light predicted that certain\n",
      "objects would radiate an in¯nite amount of energy, which of course can't be correct. Planck's\n",
      "hypothesis of qua\n"
     ]
    }
   ],
   "source": [
    "#paper url\n",
    "pdf_url='https://bpb-us-e1.wpmucdn.com/sites.harvard.edu/dist/0/550/files/2023/11/waves_quantum.pdf'\n",
    "text = pdf_url_to_text(pdf_url)[:5000]\n",
    "print(text)"
   ]
  },
  {
   "cell_type": "code",
   "execution_count": null,
   "id": "a0a3f47c-2df2-4d6a-b4c6-d26e2141ddeb",
   "metadata": {
    "id": "a0a3f47c-2df2-4d6a-b4c6-d26e2141ddeb"
   },
   "outputs": [],
   "source": [
    "def get_vectorstore_retriever(raw_text: str):\n",
    "    # 1. Wrap the raw text in a Document object\n",
    "    docs = [Document(page_content=raw_text)]\n",
    "\n",
    "    # 2. Split into smaller chunks\n",
    "    splitter = CharacterTextSplitter(chunk_size=500, chunk_overlap=50)\n",
    "    split_docs = splitter.split_documents(docs)\n",
    "\n",
    "    # 3. Create embeddings and FAISS index\n",
    "    #embeddings = SentenceTransformerEmbeddings(model_name=\"all-MiniLM-L6-v2\")\n",
    "    embeddings = HuggingFaceEmbeddings(model_name=\"all-MiniLM-L6-v2\")\n",
    "    db = FAISS.from_documents(split_docs, embeddings)\n",
    "\n",
    "    # 4. Return a retriever object\n",
    "    return db.as_retriever()"
   ]
  },
  {
   "cell_type": "code",
   "execution_count": null,
   "id": "e8771d42-29bf-454f-9213-7f45f21159d9",
   "metadata": {
    "id": "e8771d42-29bf-454f-9213-7f45f21159d9"
   },
   "outputs": [],
   "source": [
    "retriever = get_vectorstore_retriever(text)"
   ]
  },
  {
   "cell_type": "code",
   "execution_count": null,
   "id": "7505206d-df4f-427c-b473-ae4cc76fb6d0",
   "metadata": {
    "id": "7505206d-df4f-427c-b473-ae4cc76fb6d0"
   },
   "outputs": [],
   "source": [
    "def web_search(query):\n",
    "    print(\"No relevant local data found. Falling back to web search...\")\n",
    "    serpapi_key = os.environ[\"SERPAPI_API_KEY\"]\n",
    "    url = f\"https://serpapi.com/search.json?q={query}&api_key={serpapi_key}&num=3\"\n",
    "\n",
    "    response = requests.get(url)\n",
    "    results = response.json()\n",
    "\n",
    "    snippets = []\n",
    "    if \"organic_results\" in results:\n",
    "        for result in results[\"organic_results\"]:\n",
    "            snippet = result.get(\"snippet\")\n",
    "            if snippet:\n",
    "                snippets.append(snippet)\n",
    "\n",
    "    return \"\\n\".join(snippets[:3]) or \"No results found.\"\n"
   ]
  },
  {
   "cell_type": "code",
   "execution_count": null,
   "id": "cabb907d-4e4a-4509-b921-b7c58c1dfe68",
   "metadata": {
    "id": "cabb907d-4e4a-4509-b921-b7c58c1dfe68"
   },
   "outputs": [],
   "source": [
    "# --- LLM Setup ---\n",
    "llm = LLM(model=\"groq/llama3-70b-8192\")"
   ]
  },
  {
   "cell_type": "code",
   "execution_count": null,
   "id": "f3315b95-0f82-4bef-99f6-7db3b6d45f18",
   "metadata": {
    "id": "f3315b95-0f82-4bef-99f6-7db3b6d45f18"
   },
   "outputs": [],
   "source": [
    "# --- Agents ---\n",
    "synthesizer = Agent(\n",
    "    role=\"RAG Synthesizer\",\n",
    "    goal=\"Answer technical queries using documents or external sources\",\n",
    "    backstory=\"A senior AI that can write clear and accurate answers using both internal and web knowledge.\",\n",
    "    llm=llm,\n",
    "    verbose=True\n",
    ")"
   ]
  },
  {
   "cell_type": "code",
   "execution_count": null,
   "id": "385e23b4-d69d-444e-a65e-f5b5d75a4e10",
   "metadata": {
    "id": "385e23b4-d69d-444e-a65e-f5b5d75a4e10"
   },
   "outputs": [],
   "source": [
    "def build_smart_rag_task(query: str, agent: Agent) -> Task:\n",
    "    documents = retriever.invoke(query)\n",
    "    context = \"\\n\\n\".join(doc.page_content for doc in documents)\n",
    "\n",
    "    if len(context.strip()) < 200:\n",
    "        context = web_search(query)\n",
    "\n",
    "    return Task(\n",
    "        description=f\"Use the following context to answer the question:\\n\\n{context}\\n\\nQuestion: {query}\",\n",
    "        expected_output=\"A concise, accurate 3-paragraph answer.\",\n",
    "        agent=agent\n",
    "    )\n"
   ]
  },
  {
   "cell_type": "code",
   "execution_count": null,
   "id": "a00fa6ad-f75c-4256-8a02-f11d61758d9f",
   "metadata": {
    "id": "a00fa6ad-f75c-4256-8a02-f11d61758d9f",
    "outputId": "5ef80552-b71e-410c-f10b-8645b4d84694"
   },
   "outputs": [
    {
     "name": "stdin",
     "output_type": "stream",
     "text": [
      " Enter your question:  Recent quantum mechanics in 2020-22\n"
     ]
    }
   ],
   "source": [
    "# --- Crew Setup ---\n",
    "\n",
    "query = input(\" Enter your question: \").strip()\n",
    "#print(f\"Received query: '{query}'\")\n",
    "rag_task = build_smart_rag_task(query, synthesizer)\n",
    "if not query:\n",
    "    print(\" No query provided. Exiting.\")\n",
    "    exit()\n",
    "\n",
    "crew = Crew(\n",
    "    agents=[synthesizer],\n",
    "    tasks=[rag_task],\n",
    "    verbose=True\n",
    ")\n",
    "\n"
   ]
  },
  {
   "cell_type": "code",
   "execution_count": null,
   "id": "0fb2a041-7045-458c-a8e7-a9d9d9d74e0e",
   "metadata": {
    "id": "0fb2a041-7045-458c-a8e7-a9d9d9d74e0e",
    "outputId": "e0a0e5e3-1a25-4f2b-8030-96914b8898d5"
   },
   "outputs": [
    {
     "data": {
      "text/html": [
       "<pre style=\"white-space:pre;overflow-x:auto;line-height:normal;font-family:Menlo,'DejaVu Sans Mono',consolas,'Courier New',monospace\"><span style=\"color: #008080; text-decoration-color: #008080\">╭──────────────────────────────────────────── Crew Execution Started ─────────────────────────────────────────────╮</span>\n",
       "<span style=\"color: #008080; text-decoration-color: #008080\">│</span>                                                                                                                 <span style=\"color: #008080; text-decoration-color: #008080\">│</span>\n",
       "<span style=\"color: #008080; text-decoration-color: #008080\">│</span>  <span style=\"color: #008080; text-decoration-color: #008080; font-weight: bold\">Crew Execution Started</span>                                                                                         <span style=\"color: #008080; text-decoration-color: #008080\">│</span>\n",
       "<span style=\"color: #008080; text-decoration-color: #008080\">│</span>  <span style=\"color: #c0c0c0; text-decoration-color: #c0c0c0\">Name: </span><span style=\"color: #008080; text-decoration-color: #008080\">crew</span>                                                                                                     <span style=\"color: #008080; text-decoration-color: #008080\">│</span>\n",
       "<span style=\"color: #008080; text-decoration-color: #008080\">│</span>  <span style=\"color: #c0c0c0; text-decoration-color: #c0c0c0\">ID: </span><span style=\"color: #008080; text-decoration-color: #008080\">e353df42-ed38-478d-a008-38fcbd99b02c</span>                                                                       <span style=\"color: #008080; text-decoration-color: #008080\">│</span>\n",
       "<span style=\"color: #008080; text-decoration-color: #008080\">│</span>                                                                                                                 <span style=\"color: #008080; text-decoration-color: #008080\">│</span>\n",
       "<span style=\"color: #008080; text-decoration-color: #008080\">│</span>                                                                                                                 <span style=\"color: #008080; text-decoration-color: #008080\">│</span>\n",
       "<span style=\"color: #008080; text-decoration-color: #008080\">╰─────────────────────────────────────────────────────────────────────────────────────────────────────────────────╯</span>\n",
       "</pre>\n"
      ],
      "text/plain": [
       "\u001b[36m╭─\u001b[0m\u001b[36m───────────────────────────────────────────\u001b[0m\u001b[36m Crew Execution Started \u001b[0m\u001b[36m────────────────────────────────────────────\u001b[0m\u001b[36m─╮\u001b[0m\n",
       "\u001b[36m│\u001b[0m                                                                                                                 \u001b[36m│\u001b[0m\n",
       "\u001b[36m│\u001b[0m  \u001b[1;36mCrew Execution Started\u001b[0m                                                                                         \u001b[36m│\u001b[0m\n",
       "\u001b[36m│\u001b[0m  \u001b[37mName: \u001b[0m\u001b[36mcrew\u001b[0m                                                                                                     \u001b[36m│\u001b[0m\n",
       "\u001b[36m│\u001b[0m  \u001b[37mID: \u001b[0m\u001b[36me353df42-ed38-478d-a008-38fcbd99b02c\u001b[0m                                                                       \u001b[36m│\u001b[0m\n",
       "\u001b[36m│\u001b[0m                                                                                                                 \u001b[36m│\u001b[0m\n",
       "\u001b[36m│\u001b[0m                                                                                                                 \u001b[36m│\u001b[0m\n",
       "\u001b[36m╰─────────────────────────────────────────────────────────────────────────────────────────────────────────────────╯\u001b[0m\n"
      ]
     },
     "metadata": {},
     "output_type": "display_data"
    },
    {
     "data": {
      "text/html": [
       "<pre style=\"white-space:pre;overflow-x:auto;line-height:normal;font-family:Menlo,'DejaVu Sans Mono',consolas,'Courier New',monospace\">\n",
       "</pre>\n"
      ],
      "text/plain": [
       "\n"
      ]
     },
     "metadata": {},
     "output_type": "display_data"
    },
    {
     "data": {
      "text/html": [
       "<pre style=\"white-space:pre;overflow-x:auto;line-height:normal;font-family:Menlo,'DejaVu Sans Mono',consolas,'Courier New',monospace\"><span style=\"color: #008080; text-decoration-color: #008080; font-weight: bold\">🚀 Crew: crew</span>\n",
       "└── <span style=\"color: #808000; text-decoration-color: #808000; font-weight: bold\">📋 Task: f53513ce-736d-442b-9cfa-087211331a1b</span>\n",
       "    <span style=\"color: #c0c0c0; text-decoration-color: #c0c0c0\">   Status: </span><span style=\"color: #bfbf7f; text-decoration-color: #bfbf7f\">Executing Task...</span>\n",
       "</pre>\n"
      ],
      "text/plain": [
       "\u001b[1;36m🚀 Crew: \u001b[0m\u001b[1;36mcrew\u001b[0m\n",
       "└── \u001b[1;33m📋 Task: f53513ce-736d-442b-9cfa-087211331a1b\u001b[0m\n",
       "    \u001b[37m   Status: \u001b[0m\u001b[2;33mExecuting Task...\u001b[0m\n"
      ]
     },
     "metadata": {},
     "output_type": "display_data"
    },
    {
     "data": {
      "text/html": [
       "<pre style=\"white-space:pre;overflow-x:auto;line-height:normal;font-family:Menlo,'DejaVu Sans Mono',consolas,'Courier New',monospace\">\n",
       "</pre>\n"
      ],
      "text/plain": [
       "\n"
      ]
     },
     "metadata": {},
     "output_type": "display_data"
    },
    {
     "data": {
      "text/html": [
       "<pre style=\"white-space:pre;overflow-x:auto;line-height:normal;font-family:Menlo,'DejaVu Sans Mono',consolas,'Courier New',monospace\"><span style=\"color: #008080; text-decoration-color: #008080; font-weight: bold\">🚀 Crew: crew</span>\n",
       "└── <span style=\"color: #808000; text-decoration-color: #808000; font-weight: bold\">📋 Task: f53513ce-736d-442b-9cfa-087211331a1b</span>\n",
       "    <span style=\"color: #c0c0c0; text-decoration-color: #c0c0c0\">   Status: </span><span style=\"color: #bfbf7f; text-decoration-color: #bfbf7f\">Executing Task...</span>\n",
       "    └── <span style=\"color: #008000; text-decoration-color: #008000; font-weight: bold\">🤖 Agent: </span><span style=\"color: #008000; text-decoration-color: #008000\">RAG Synthesizer</span>\n",
       "        <span style=\"color: #c0c0c0; text-decoration-color: #c0c0c0\">    Status: </span><span style=\"color: #008000; text-decoration-color: #008000; font-weight: bold\">In Progress</span>\n",
       "</pre>\n"
      ],
      "text/plain": [
       "\u001b[1;36m🚀 Crew: \u001b[0m\u001b[1;36mcrew\u001b[0m\n",
       "└── \u001b[1;33m📋 Task: f53513ce-736d-442b-9cfa-087211331a1b\u001b[0m\n",
       "    \u001b[37m   Status: \u001b[0m\u001b[2;33mExecuting Task...\u001b[0m\n",
       "    └── \u001b[1;32m🤖 Agent: \u001b[0m\u001b[32mRAG Synthesizer\u001b[0m\n",
       "        \u001b[37m    Status: \u001b[0m\u001b[1;32mIn Progress\u001b[0m\n"
      ]
     },
     "metadata": {},
     "output_type": "display_data"
    },
    {
     "data": {
      "text/html": [
       "<pre style=\"white-space:pre;overflow-x:auto;line-height:normal;font-family:Menlo,'DejaVu Sans Mono',consolas,'Courier New',monospace\">\n",
       "</pre>\n"
      ],
      "text/plain": [
       "\n"
      ]
     },
     "metadata": {},
     "output_type": "display_data"
    },
    {
     "name": "stdout",
     "output_type": "stream",
     "text": [
      "\u001b[1m\u001b[95m# Agent:\u001b[00m \u001b[1m\u001b[92mRAG Synthesizer\u001b[00m\n",
      "\u001b[95m## Task:\u001b[00m \u001b[92mUse the following context to answer the question:\n",
      "\n",
      "Chapter 10\n",
      "Introduction to quantum\n",
      "mechanics\n",
      "David Morin, morin@physics.harvard.edu\n",
      "This chapter gives a brief introduction to quantum mechanics. Quantum mechanics can be\n",
      "thought of roughly as the study of physics on very small length scales, although there are\n",
      "also certain macroscopic systems it directly applies to. The descriptor \\quantum\" arises\n",
      "because in contrast with classical mechanics, certain quantities take on only discrete values.\n",
      "However, some quantities still take on continuous values, as we'll see.\n",
      "In quantum mechanics, particles have wavelike properties, and a particular wave equa-\n",
      "tion, the Schrodinger equation , governs how these waves behave. The Schrodinger equation\n",
      "is di®erent in a few ways from the other wave equations we've seen in this book. But these\n",
      "di®erences won't keep us from applying all of our usual strategies for solving a wave equation\n",
      "and dealing with the resulting solutions.\n",
      "In some respect, quantum mechanics is just another example of a system governed by a\n",
      "wave equation. In fact, we will ¯nd below that some quantum mechanical systems have exact\n",
      "analogies to systems we've already studied in this book. So the results can be carried over,\n",
      "with no modi¯cations whatsoever needed. However, although it is fairly straightforward\n",
      "to deal with the actual waves, there are many things about quantum mechanics that are a\n",
      "combination of subtle, perplexing, and bizarre. To name a few: the measurement problem,\n",
      "hidden variables along with Bell's theorem, and wave-particle duality. You'll learn all about\n",
      "these in an actual course on quantum mechanics.\n",
      "Even though there are many things that are highly confusing about quantum mechanics,\n",
      "the nice thing is that it's relatively easy to apply quantum mechanics to a physical system\n",
      "to ¯gure out how it behaves. There is fortunately no need to understand all of the subtleties\n",
      "about quantum mechanics in order to use it. Of course, in most cases this isn't the best\n",
      "strategy to take; it's usually not a good idea to blindly forge ahead with something if you\n",
      "don't understand what you're actually working with. But this lack of understanding can\n",
      "be forgiven in the case of quantum mechanics, because no one really understands it. (Well,\n",
      "maybe a couple people do, but they're few and far between.) If the world waited to use\n",
      "quantum mechanics until it understood it, then we'd be stuck back in the 1920's. The\n",
      "bottom line is that quantum mechanics can be used to make predictions that are consistent\n",
      "with experiment. It hasn't failed us yet. So it would be foolish not to use it.\n",
      "The main purpose of this chapter is to demonstrate how similar certain results in quan-\n",
      "tum mechanics are to earlier results we've derived in the book. You actually know a good\n",
      "12 CHAPTER 10. INTRODUCTION TO QUANTUM MECHANICS\n",
      "deal of quantum mechanics already, whether you realize it or not.\n",
      "The outline of this chapter is as follows. In Section 10.1 we give a brief history of the\n",
      "development of quantum mechanics. In Section 10.2 we write down, after some motivation,\n",
      "theSchrodinger wave equation , both the time-dependent and time-independent forms. In\n",
      "Section 10.3 we discuss a number of examples. The most important thing to take away from\n",
      "this section is that all of the examples we discuss have exact analogies in the string/spring\n",
      "systems earlier in the book. So we technically won't have to solve anything new here. All\n",
      "the work has been done before. The only thing new that we'll have to do is interpret the old\n",
      "results. In Section 10.4 we discuss the uncertainty principle . As in Section 10.3, we'll ¯nd\n",
      "that we already did the necessary work earlier in the book. The uncertainty principle turns\n",
      "out to be a direct consequence of a result from Fourier analysis. But the interpretation of\n",
      "this result as an uncertainty principle has profound implications in quantum mechanics.\n",
      "10.1 A brief history\n",
      "Before discussing the Schrodinger wave equation, let's take a brief (and by no means com-\n",
      "prehensive) look at the historical timeline of how quantum mechanics came about. The\n",
      "actual history is of course never as clean as an outline like this suggests, but we can at least\n",
      "get a general idea of how things proceeded.\n",
      "1900 (Planck): Max Planck proposed that light with frequency ºis emitted in quantized\n",
      "lumps of energy that come in integral multiples of the quantity,\n",
      "E=hº= ¹h! (1)\n",
      "where h¼6:63¢10¡34J¢s isPlanck's constant , and ¹ h´h=2¼= 1:06¢10¡34J¢s.\n",
      "The frequency ºof light is generally very large (on the order of 1015s¡1for the visible\n",
      "spectrum), but the smallness of hwins out, so the hºunit of energy is very small (at least on\n",
      "an everyday energy scale). The energy is therefore essentially continuous for most purposes.\n",
      "However, a puzzle in late 19th-century physics was the blackbody radiation problem. In a\n",
      "nutshell, the issue was that the classical (continuous) theory of light predicted that certain\n",
      "objects would radiate an in¯nite amount of energy, which of course can't be correct. Planck's\n",
      "hypothesis of qua\n",
      "\n",
      "Question: Recent quantum mechanics in 2020-22\u001b[00m\n",
      "\n",
      "\n",
      "\u001b[1m\u001b[95m# Agent:\u001b[00m \u001b[1m\u001b[92mRAG Synthesizer\u001b[00m\n",
      "\u001b[95m## Final Answer:\u001b[00m \u001b[92m\n",
      "The recent developments in quantum mechanics from 2020 to 2022 are not explicitly mentioned in the provided chapter. However, based on the general understanding of quantum mechanics, some recent advancements can be discussed.\n",
      "\n",
      "In recent years, significant progress has been made in the field of quantum computing, with tech giants like Google, IBM, and Microsoft racing to develop functional quantum computers. For instance, in October 2020, Google announced a significant breakthrough in quantum computing, claiming to have achieved \"quantum supremacy\" - a feat that surpasses the capabilities of classical computers. This development has opened up new avenues for research in quantum mechanics.\n",
      "\n",
      "Furthermore, researchers have also made significant progress in understanding the principles of quantum mechanics, such as quantum entanglement and superposition. Recent studies have also explored the potential applications of quantum mechanics in fields like materials science, cryptography, and even biomedical research. These advancements demonstrate the continuous evolution of quantum mechanics, as researchers strive to better understand and harness its power.\u001b[00m\n",
      "\n",
      "\n"
     ]
    },
    {
     "data": {
      "text/html": [
       "<pre style=\"white-space:pre;overflow-x:auto;line-height:normal;font-family:Menlo,'DejaVu Sans Mono',consolas,'Courier New',monospace\"><span style=\"color: #008080; text-decoration-color: #008080; font-weight: bold\">🚀 Crew: crew</span>\n",
       "└── <span style=\"color: #808000; text-decoration-color: #808000; font-weight: bold\">📋 Task: f53513ce-736d-442b-9cfa-087211331a1b</span>\n",
       "    <span style=\"color: #c0c0c0; text-decoration-color: #c0c0c0\">   Status: </span><span style=\"color: #bfbf7f; text-decoration-color: #bfbf7f\">Executing Task...</span>\n",
       "    └── <span style=\"color: #008000; text-decoration-color: #008000; font-weight: bold\">🤖 Agent: </span><span style=\"color: #008000; text-decoration-color: #008000\">RAG Synthesizer</span>\n",
       "        <span style=\"color: #c0c0c0; text-decoration-color: #c0c0c0\">    Status: </span><span style=\"color: #008000; text-decoration-color: #008000; font-weight: bold\">✅ Completed</span>\n",
       "</pre>\n"
      ],
      "text/plain": [
       "\u001b[1;36m🚀 Crew: \u001b[0m\u001b[1;36mcrew\u001b[0m\n",
       "└── \u001b[1;33m📋 Task: f53513ce-736d-442b-9cfa-087211331a1b\u001b[0m\n",
       "    \u001b[37m   Status: \u001b[0m\u001b[2;33mExecuting Task...\u001b[0m\n",
       "    └── \u001b[1;32m🤖 Agent: \u001b[0m\u001b[32mRAG Synthesizer\u001b[0m\n",
       "        \u001b[37m    Status: \u001b[0m\u001b[1;32m✅ Completed\u001b[0m\n"
      ]
     },
     "metadata": {},
     "output_type": "display_data"
    },
    {
     "data": {
      "text/html": [
       "<pre style=\"white-space:pre;overflow-x:auto;line-height:normal;font-family:Menlo,'DejaVu Sans Mono',consolas,'Courier New',monospace\">\n",
       "</pre>\n"
      ],
      "text/plain": [
       "\n"
      ]
     },
     "metadata": {},
     "output_type": "display_data"
    },
    {
     "data": {
      "text/html": [
       "<pre style=\"white-space:pre;overflow-x:auto;line-height:normal;font-family:Menlo,'DejaVu Sans Mono',consolas,'Courier New',monospace\"><span style=\"color: #008080; text-decoration-color: #008080; font-weight: bold\">🚀 Crew: crew</span>\n",
       "└── <span style=\"color: #008000; text-decoration-color: #008000; font-weight: bold\">📋 Task: f53513ce-736d-442b-9cfa-087211331a1b</span>\n",
       "    <span style=\"color: #c0c0c0; text-decoration-color: #c0c0c0\">   Assigned to: </span><span style=\"color: #008000; text-decoration-color: #008000\">RAG Synthesizer</span>\n",
       "    <span style=\"color: #c0c0c0; text-decoration-color: #c0c0c0\">   Status: </span><span style=\"color: #008000; text-decoration-color: #008000; font-weight: bold\">✅ Completed</span>\n",
       "    └── <span style=\"color: #008000; text-decoration-color: #008000; font-weight: bold\">🤖 Agent: </span><span style=\"color: #008000; text-decoration-color: #008000\">RAG Synthesizer</span>\n",
       "        <span style=\"color: #c0c0c0; text-decoration-color: #c0c0c0\">    Status: </span><span style=\"color: #008000; text-decoration-color: #008000; font-weight: bold\">✅ Completed</span>\n",
       "</pre>\n"
      ],
      "text/plain": [
       "\u001b[1;36m🚀 Crew: \u001b[0m\u001b[1;36mcrew\u001b[0m\n",
       "└── \u001b[1;32m📋 Task: f53513ce-736d-442b-9cfa-087211331a1b\u001b[0m\n",
       "    \u001b[37m   Assigned to: \u001b[0m\u001b[32mRAG Synthesizer\u001b[0m\n",
       "    \u001b[37m   Status: \u001b[0m\u001b[1;32m✅ Completed\u001b[0m\n",
       "    └── \u001b[1;32m🤖 Agent: \u001b[0m\u001b[32mRAG Synthesizer\u001b[0m\n",
       "        \u001b[37m    Status: \u001b[0m\u001b[1;32m✅ Completed\u001b[0m\n"
      ]
     },
     "metadata": {},
     "output_type": "display_data"
    },
    {
     "data": {
      "text/html": [
       "<pre style=\"white-space:pre;overflow-x:auto;line-height:normal;font-family:Menlo,'DejaVu Sans Mono',consolas,'Courier New',monospace\"><span style=\"color: #008000; text-decoration-color: #008000\">╭──────────────────────────────────────────────── Task Completion ────────────────────────────────────────────────╮</span>\n",
       "<span style=\"color: #008000; text-decoration-color: #008000\">│</span>                                                                                                                 <span style=\"color: #008000; text-decoration-color: #008000\">│</span>\n",
       "<span style=\"color: #008000; text-decoration-color: #008000\">│</span>  <span style=\"color: #008000; text-decoration-color: #008000; font-weight: bold\">Task Completed</span>                                                                                                 <span style=\"color: #008000; text-decoration-color: #008000\">│</span>\n",
       "<span style=\"color: #008000; text-decoration-color: #008000\">│</span>  <span style=\"color: #c0c0c0; text-decoration-color: #c0c0c0\">Name: </span><span style=\"color: #008000; text-decoration-color: #008000\">f53513ce-736d-442b-9cfa-087211331a1b</span>                                                                     <span style=\"color: #008000; text-decoration-color: #008000\">│</span>\n",
       "<span style=\"color: #008000; text-decoration-color: #008000\">│</span>  <span style=\"color: #c0c0c0; text-decoration-color: #c0c0c0\">Agent: </span><span style=\"color: #008000; text-decoration-color: #008000\">RAG Synthesizer</span>                                                                                         <span style=\"color: #008000; text-decoration-color: #008000\">│</span>\n",
       "<span style=\"color: #008000; text-decoration-color: #008000\">│</span>                                                                                                                 <span style=\"color: #008000; text-decoration-color: #008000\">│</span>\n",
       "<span style=\"color: #008000; text-decoration-color: #008000\">│</span>                                                                                                                 <span style=\"color: #008000; text-decoration-color: #008000\">│</span>\n",
       "<span style=\"color: #008000; text-decoration-color: #008000\">╰─────────────────────────────────────────────────────────────────────────────────────────────────────────────────╯</span>\n",
       "</pre>\n"
      ],
      "text/plain": [
       "\u001b[32m╭─\u001b[0m\u001b[32m───────────────────────────────────────────────\u001b[0m\u001b[32m Task Completion \u001b[0m\u001b[32m───────────────────────────────────────────────\u001b[0m\u001b[32m─╮\u001b[0m\n",
       "\u001b[32m│\u001b[0m                                                                                                                 \u001b[32m│\u001b[0m\n",
       "\u001b[32m│\u001b[0m  \u001b[1;32mTask Completed\u001b[0m                                                                                                 \u001b[32m│\u001b[0m\n",
       "\u001b[32m│\u001b[0m  \u001b[37mName: \u001b[0m\u001b[32mf53513ce-736d-442b-9cfa-087211331a1b\u001b[0m                                                                     \u001b[32m│\u001b[0m\n",
       "\u001b[32m│\u001b[0m  \u001b[37mAgent: \u001b[0m\u001b[32mRAG Synthesizer\u001b[0m                                                                                         \u001b[32m│\u001b[0m\n",
       "\u001b[32m│\u001b[0m                                                                                                                 \u001b[32m│\u001b[0m\n",
       "\u001b[32m│\u001b[0m                                                                                                                 \u001b[32m│\u001b[0m\n",
       "\u001b[32m╰─────────────────────────────────────────────────────────────────────────────────────────────────────────────────╯\u001b[0m\n"
      ]
     },
     "metadata": {},
     "output_type": "display_data"
    },
    {
     "data": {
      "text/html": [
       "<pre style=\"white-space:pre;overflow-x:auto;line-height:normal;font-family:Menlo,'DejaVu Sans Mono',consolas,'Courier New',monospace\">\n",
       "</pre>\n"
      ],
      "text/plain": [
       "\n"
      ]
     },
     "metadata": {},
     "output_type": "display_data"
    },
    {
     "data": {
      "text/html": [
       "<pre style=\"white-space:pre;overflow-x:auto;line-height:normal;font-family:Menlo,'DejaVu Sans Mono',consolas,'Courier New',monospace\"><span style=\"color: #008000; text-decoration-color: #008000\">╭──────────────────────────────────────────────── Crew Completion ────────────────────────────────────────────────╮</span>\n",
       "<span style=\"color: #008000; text-decoration-color: #008000\">│</span>                                                                                                                 <span style=\"color: #008000; text-decoration-color: #008000\">│</span>\n",
       "<span style=\"color: #008000; text-decoration-color: #008000\">│</span>  <span style=\"color: #008000; text-decoration-color: #008000; font-weight: bold\">Crew Execution Completed</span>                                                                                       <span style=\"color: #008000; text-decoration-color: #008000\">│</span>\n",
       "<span style=\"color: #008000; text-decoration-color: #008000\">│</span>  <span style=\"color: #c0c0c0; text-decoration-color: #c0c0c0\">Name: </span><span style=\"color: #008000; text-decoration-color: #008000\">crew</span>                                                                                                     <span style=\"color: #008000; text-decoration-color: #008000\">│</span>\n",
       "<span style=\"color: #008000; text-decoration-color: #008000\">│</span>  <span style=\"color: #c0c0c0; text-decoration-color: #c0c0c0\">ID: </span><span style=\"color: #008000; text-decoration-color: #008000\">e353df42-ed38-478d-a008-38fcbd99b02c</span>                                                                       <span style=\"color: #008000; text-decoration-color: #008000\">│</span>\n",
       "<span style=\"color: #008000; text-decoration-color: #008000\">│</span>                                                                                                                 <span style=\"color: #008000; text-decoration-color: #008000\">│</span>\n",
       "<span style=\"color: #008000; text-decoration-color: #008000\">│</span>                                                                                                                 <span style=\"color: #008000; text-decoration-color: #008000\">│</span>\n",
       "<span style=\"color: #008000; text-decoration-color: #008000\">╰─────────────────────────────────────────────────────────────────────────────────────────────────────────────────╯</span>\n",
       "</pre>\n"
      ],
      "text/plain": [
       "\u001b[32m╭─\u001b[0m\u001b[32m───────────────────────────────────────────────\u001b[0m\u001b[32m Crew Completion \u001b[0m\u001b[32m───────────────────────────────────────────────\u001b[0m\u001b[32m─╮\u001b[0m\n",
       "\u001b[32m│\u001b[0m                                                                                                                 \u001b[32m│\u001b[0m\n",
       "\u001b[32m│\u001b[0m  \u001b[1;32mCrew Execution Completed\u001b[0m                                                                                       \u001b[32m│\u001b[0m\n",
       "\u001b[32m│\u001b[0m  \u001b[37mName: \u001b[0m\u001b[32mcrew\u001b[0m                                                                                                     \u001b[32m│\u001b[0m\n",
       "\u001b[32m│\u001b[0m  \u001b[37mID: \u001b[0m\u001b[32me353df42-ed38-478d-a008-38fcbd99b02c\u001b[0m                                                                       \u001b[32m│\u001b[0m\n",
       "\u001b[32m│\u001b[0m                                                                                                                 \u001b[32m│\u001b[0m\n",
       "\u001b[32m│\u001b[0m                                                                                                                 \u001b[32m│\u001b[0m\n",
       "\u001b[32m╰─────────────────────────────────────────────────────────────────────────────────────────────────────────────────╯\u001b[0m\n"
      ]
     },
     "metadata": {},
     "output_type": "display_data"
    },
    {
     "data": {
      "text/html": [
       "<pre style=\"white-space:pre;overflow-x:auto;line-height:normal;font-family:Menlo,'DejaVu Sans Mono',consolas,'Courier New',monospace\">\n",
       "</pre>\n"
      ],
      "text/plain": [
       "\n"
      ]
     },
     "metadata": {},
     "output_type": "display_data"
    },
    {
     "name": "stdout",
     "output_type": "stream",
     "text": [
      "\n",
      "Final Answer:\n",
      " The recent developments in quantum mechanics from 2020 to 2022 are not explicitly mentioned in the provided chapter. However, based on the general understanding of quantum mechanics, some recent advancements can be discussed.\n",
      "\n",
      "In recent years, significant progress has been made in the field of quantum computing, with tech giants like Google, IBM, and Microsoft racing to develop functional quantum computers. For instance, in October 2020, Google announced a significant breakthrough in quantum computing, claiming to have achieved \"quantum supremacy\" - a feat that surpasses the capabilities of classical computers. This development has opened up new avenues for research in quantum mechanics.\n",
      "\n",
      "Furthermore, researchers have also made significant progress in understanding the principles of quantum mechanics, such as quantum entanglement and superposition. Recent studies have also explored the potential applications of quantum mechanics in fields like materials science, cryptography, and even biomedical research. These advancements demonstrate the continuous evolution of quantum mechanics, as researchers strive to better understand and harness its power.\n"
     ]
    }
   ],
   "source": [
    "result = crew.kickoff()\n",
    "print(\"\\nFinal Answer:\\n\", result)"
   ]
  },
  {
   "cell_type": "code",
   "execution_count": null,
   "id": "40c8460f-0352-4b9a-bcbc-339113590ff4",
   "metadata": {
    "id": "40c8460f-0352-4b9a-bcbc-339113590ff4"
   },
   "outputs": [],
   "source": []
  },
  {
   "cell_type": "code",
   "execution_count": null,
   "id": "7f186fc4-ef64-48ec-b837-8c760eafef9e",
   "metadata": {
    "id": "7f186fc4-ef64-48ec-b837-8c760eafef9e"
   },
   "outputs": [],
   "source": []
  }
 ],
 "metadata": {
  "colab": {
   "provenance": []
  },
  "kernelspec": {
   "display_name": "Python 3 (ipykernel)",
   "language": "python",
   "name": "python3"
  },
  "language_info": {
   "codemirror_mode": {
    "name": "ipython",
    "version": 3
   },
   "file_extension": ".py",
   "mimetype": "text/x-python",
   "name": "python",
   "nbconvert_exporter": "python",
   "pygments_lexer": "ipython3",
   "version": "3.12.7"
  }
 },
 "nbformat": 4,
 "nbformat_minor": 5
}
